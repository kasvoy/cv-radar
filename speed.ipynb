{
 "cells": [
  {
   "cell_type": "code",
   "execution_count": 2,
   "metadata": {},
   "outputs": [
    {
     "name": "stderr",
     "output_type": "stream",
     "text": [
      "Using cache found in /home/kasvoy/.cache/torch/hub/ultralytics_yolov5_master\n",
      "YOLOv5 🚀 2023-3-26 Python-3.11.2 torch-2.0.0+cu117 CUDA:0 (NVIDIA GeForce GTX 1060 6GB, 6070MiB)\n",
      "\n",
      "Fusing layers... \n",
      "YOLOv5m summary: 290 layers, 21172173 parameters, 0 gradients\n",
      "Adding AutoShape... \n"
     ]
    }
   ],
   "source": [
    "import cv2\n",
    "import torch\n",
    "import numpy as np\n",
    "from speed_funcs import *\n",
    "\n",
    "yolov5 = torch.hub.load('ultralytics/yolov5', 'yolov5m', pretrained =True)\n",
    "\n",
    "video_path = \"data/session5_center/video.avi\""
   ]
  },
  {
   "cell_type": "code",
   "execution_count": 3,
   "metadata": {},
   "outputs": [
    {
     "data": {
      "text/plain": [
       "'\\nOriginal points (leftmost points starting from up):\\n\\np1: (774, 85)\\np2: (706, 163)\\np3: (601, 284)\\np4: (423, 491)\\np5: (79, 909)\\n\\n\\nTransformed:\\n\\np1: (845, 60)\\np2: (845, 277)\\np3: (845, 502)\\np4: (845, 731)\\np5: (851, 956)\\n'"
      ]
     },
     "execution_count": 3,
     "metadata": {},
     "output_type": "execute_result"
    }
   ],
   "source": [
    "\"\"\"\n",
    "Original points (leftmost points starting from up):\n",
    "\n",
    "p1: (774, 85)\n",
    "p2: (706, 163)\n",
    "p3: (601, 284)\n",
    "p4: (423, 491)\n",
    "p5: (79, 909)\n",
    "\n",
    "\n",
    "Transformed:\n",
    "\n",
    "p1: (845, 60)\n",
    "p2: (845, 277)\n",
    "p3: (845, 502)\n",
    "p4: (845, 731)\n",
    "p5: (851, 956)\n",
    "\"\"\""
   ]
  },
  {
   "cell_type": "code",
   "execution_count": 4,
   "metadata": {},
   "outputs": [],
   "source": [
    "#function that converts yolov5's bounding box format to ltwh format for deepsort\n",
    "def xyxy_to_bb(result_tensor):\n",
    "    bbs = []\n",
    "    \n",
    "    for det_tensor in result_tensor:\n",
    "        det_list = det_tensor.tolist()\n",
    "        \n",
    "        x_min = det_list[0]\n",
    "        y_min = det_list[1]\n",
    "        x_max = det_list[2]\n",
    "        y_max = det_list[3]\n",
    "        conf = det_list[4]\n",
    "        det_class = det_list[5]\n",
    "        \n",
    "        height = y_max - y_min\n",
    "        width = x_max - x_min\n",
    "        \n",
    "        ltwh = [x_min, y_min, width, height], conf, det_class\n",
    "        #consider only vehicles\n",
    "        if det_class in {2, 3, 5, 7}:\n",
    "            bbs.append(ltwh)\n",
    "    return bbs   "
   ]
  },
  {
   "cell_type": "code",
   "execution_count": 5,
   "metadata": {},
   "outputs": [],
   "source": [
    "def play_transformed_vid(video_path, transform_matrix):\n",
    "    \n",
    "    cap = cv2.VideoCapture(video_path)\n",
    "    \n",
    "    while cap.isOpened():\n",
    "        \n",
    "        ret, frame = cap.read()\n",
    "        \n",
    "        if ret:\n",
    "            \n",
    "            current_time = cap.get(cv2.CAP_PROP_POS_MSEC) / 1000\n",
    "\n",
    "            # Display the current runtime in seconds\n",
    "            #print(\"Current Runtime: {} seconds\".format(current_time))\n",
    "            \n",
    "            cv2.imshow('t', cv2.warpPerspective(frame, transform_matrix, (1920,1080)))\n",
    "            \n",
    "            if cv2.waitKey(10) & 0xFF == ord('q'):\n",
    "                break\n",
    "            \n",
    "        else:\n",
    "            break    \n",
    "    \n",
    "    cap.release()\n",
    "    cv2.destroyAllWindows()"
   ]
  },
  {
   "cell_type": "code",
   "execution_count": 6,
   "metadata": {},
   "outputs": [],
   "source": [
    "#play_transformed_vid(video_path, transform_matrix)"
   ]
  },
  {
   "cell_type": "code",
   "execution_count": 7,
   "metadata": {},
   "outputs": [],
   "source": [
    "#show model detections\n",
    "def show_dets(video_path):\n",
    "    video = cv2.VideoCapture(video_path)\n",
    "    \n",
    "    while video.isOpened():\n",
    "        \n",
    "        ret, frame = video.read()\n",
    "        \n",
    "        if ret:\n",
    "        \n",
    "            cv2.namedWindow(\"Resized_Window\", cv2.WINDOW_NORMAL)\n",
    "            cv2.resizeWindow(\"Resized_Window\", 1920, 1080)\n",
    "        \n",
    "            result = yolov5(extract_roi(frame))\n",
    "                \n",
    "            cv2.imshow(\"Resized_Window\", np.squeeze(result.render()))\n",
    "        else:\n",
    "            break\n",
    "    \n",
    "        if cv2.waitKey(10) & 0xFF == ord('q'):\n",
    "            break\n",
    "        \n",
    "    video.release()\n",
    "    cv2.destroyAllWindows()"
   ]
  },
  {
   "cell_type": "code",
   "execution_count": 8,
   "metadata": {},
   "outputs": [],
   "source": [
    "def show_nth_frame(video_path, n, transformed=True):\n",
    "    cap = cv2.VideoCapture(video_path)\n",
    "    cap.set(cv2.CAP_PROP_POS_FRAMES, n)\n",
    "    _, frame = cap.read()\n",
    "\n",
    "    if transformed:\n",
    "        cv2.imshow(\"frame\", cv2.warpPerspective(frame, TRANSFORM_MATRIX, (1920,1080)))\n",
    "    else:\n",
    "        cv2.imshow(\"frame\", frame)\n",
    "\n",
    "    cv2.waitKey(0)\n",
    "    cv2.destroyAllWindows()\n",
    "    cap.release()"
   ]
  },
  {
   "cell_type": "code",
   "execution_count": 9,
   "metadata": {},
   "outputs": [],
   "source": [
    "def show_time_frame(video_path, video_time = 25, transformed=True): \n",
    "        \n",
    "    cap = cv2.VideoCapture(video_path)\n",
    "        \n",
    "    cap.set(cv2.CAP_PROP_POS_MSEC,video_time*1000) \n",
    "    \n",
    "    _, frame = cap.read()\n",
    "    \n",
    "    if transformed:\n",
    "        cv2.imshow(\"frame\", cv2.warpPerspective(frame, TRANSFORM_MATRIX, (1920,1080)))\n",
    "    else:\n",
    "        cv2.imshow(\"frame\", frame)\n",
    "    \n",
    "    cv2.waitKey(0)\n",
    "    cv2.destroyAllWindows()\n",
    "    cap.release()"
   ]
  },
  {
   "cell_type": "code",
   "execution_count": 16,
   "metadata": {},
   "outputs": [],
   "source": [
    "from deep_sort_realtime.deepsort_tracker import DeepSort\n",
    "\n",
    "\n",
    "def play_tracker_video(detection_model, video_path, transform_matrix=None, video_time=30, speed_limit=80):\n",
    "\n",
    "    cap = cv2.VideoCapture(video_path)\n",
    "    cap.set(cv2.CAP_PROP_POS_MSEC,video_time*1000)\n",
    "    \n",
    "    tracker = DeepSort(max_age=1, n_init=2, nms_max_overlap=1.0,embedder_gpu=True)\n",
    "    \n",
    "    #coordinates of the 5 marked lines in transformed space\n",
    "    #points are roughly equidistant - 7 meters real world space\n",
    "    points = {\n",
    "        'P1': [845, 60],\n",
    "        'P2': [845, 277],\n",
    "        'P3': [845, 502],\n",
    "        'P4': [845, 731],\n",
    "        'P5': [851, 956]\n",
    "    }\n",
    "    \n",
    "    section_length = 7\n",
    "    total_length = 28\n",
    "    len25 = 21\n",
    "    \n",
    "    speeds_dict = dict()\n",
    "    \n",
    "\n",
    "    while cap.isOpened():\n",
    "        ret, frame = cap.read()\n",
    "        frame = extract_roi(frame)\n",
    "        \n",
    "        if ret:\n",
    "            current_time = float('{:.2f}'.format(cap.get(cv2.CAP_PROP_POS_MSEC)/1000))\n",
    "            #display_video_time(current_time, frame)\n",
    "            \n",
    "            results = detection_model(frame)\n",
    "        \n",
    "            bbs = xyxy_to_bb(results.xyxy[0])\n",
    "    \n",
    "            tracks = tracker.update_tracks(bbs, frame=frame) \n",
    "            for track in tracks:\n",
    "                if not track.is_confirmed():\n",
    "                    continue\n",
    "                track_id = track.track_id\n",
    "                \n",
    "                #[bbox[0], bbox[1]] <-- TOP LEFT, [bbox[2], bbox[3]] <-- BOTTOM RIGHT\n",
    "                bbox = list(track.to_ltrb())\n",
    "                br = np.array([int(bbox[2]), int(bbox[3])], dtype=np.float32)\n",
    "                #bl = np.array([int(bbox[2]), int(bbox[3])], dtype=np.float32)\n",
    "                \n",
    "                br_transformed = get_point_under_transform(br, transform_matrix)\n",
    "                \n",
    "                if track_id not in speeds_dict:\n",
    "                    speeds_dict[track_id] = {\n",
    "                        'P1': 0, 'P2': 0, 'P3': 0, 'P4': 0, 'P5': 0,\n",
    "                        'delta12': 0, 'delta23': 0, 'delta34': 0, 'delta45': 0, 'total_delta': 0,\n",
    "                        'speed12': 0,'speed23': 0, 'speed34': 0, 'speed45': 0, 'avg_speed': 0}\n",
    "                    \n",
    "                 \n",
    "                assign_point_time(speeds_dict, points, br_transformed, track_id, current_time, tolerance=10)\n",
    "                            \n",
    "                point_times = list(speeds_dict[track_id].values())[:5]  \n",
    "                section_speeds = list(speeds_dict[track_id].values())[10:14]\n",
    "                \n",
    "                current_speed = section_speeds[0]\n",
    "                \n",
    "                #print current section speed when new one is calculated\n",
    "                if section_speeds[1] !=0 and section_speeds[2] == 0:\n",
    "                    current_speed = section_speeds[1]\n",
    "                \n",
    "                elif section_speeds[2] !=0 and section_speeds[3] == 0:\n",
    "                    current_speed = section_speeds[2]\n",
    "                \n",
    "                elif section_speeds[3] != 0:\n",
    "                    current_speed = section_speeds[3]\n",
    "                 \n",
    "                #average speed calculation\n",
    "                if point_times[0] !=0 and point_times[4] !=0:\n",
    "                    total_delta = point_times[4] - point_times[0]\n",
    "                    speeds_dict[track_id]['total_delta'] = total_delta\n",
    "                    \n",
    "                    speeds_dict[track_id]['avg_speed'] = round((total_length/total_delta) * 3.6, 3)\n",
    "                    \n",
    "                    text = f\"average speed: {speeds_dict[track_id]['avg_speed']}km/h\"\n",
    "                    color_avg_speed = (255,255,255)\n",
    "                    \n",
    "                    if speeds_dict[track_id]['avg_speed'] > speed_limit:\n",
    "                        color_avg_speed = (0,0,255)\n",
    "                    \n",
    "                    cv2.putText(frame, text, (int(bbox[0]), int(bbox[1])-60), cv2.FONT_HERSHEY_SIMPLEX, 1, color_avg_speed, 2)\n",
    "                \n",
    "                txt = f\"{track_id}, speed: {current_speed}km/h\"\n",
    "                \n",
    "                (label_width,label_height), baseline = cv2.getTextSize(txt , cv2.FONT_HERSHEY_SIMPLEX,1,1)\n",
    "                org = tuple(map(int,[int(bbox[0]),int(bbox[1])-baseline]))\n",
    "\n",
    "                bbox_color = (0,255,0)\n",
    "                if current_speed > speed_limit:\n",
    "                    bbox_color = (0,0,255)\n",
    "                \n",
    "                cv2.rectangle(frame, (int(bbox[0]), int(bbox[1])), (int(bbox[2]), int(bbox[3])), bbox_color, 1)\n",
    "                cv2.putText(frame, txt, org, cv2.FONT_HERSHEY_SIMPLEX, 1, (255,255,255), 1)\n",
    "            \n",
    "            \n",
    "            cv2.putText(frame, f\"SPEED LIMIT: {speed_limit}km/h\", (200,250), cv2.FONT_HERSHEY_SIMPLEX, 1, (255,255,255), 2)\n",
    "            cv2.imshow('Video', frame)\n",
    "            key = cv2.waitKey(1)\n",
    "            \n",
    "            if key & 0xFF == ord('q'):\n",
    "                break\n",
    "            if key & 0xFF == ord('p'):\n",
    "                cv2.waitKey(-1)\n",
    "        \n",
    "        else:\n",
    "            break\n",
    "\n",
    "\n",
    "    cap.release()\n",
    "    cv2.destroyAllWindows()\n",
    "    \n",
    "    return speeds_dict"
   ]
  },
  {
   "cell_type": "code",
   "execution_count": 18,
   "metadata": {},
   "outputs": [],
   "source": [
    "speeds_dict = play_tracker_video(yolov5, video_path, TRANSFORM_MATRIX, video_time=0, speed_limit=80)"
   ]
  },
  {
   "cell_type": "code",
   "execution_count": 12,
   "metadata": {},
   "outputs": [
    {
     "name": "stdout",
     "output_type": "stream",
     "text": [
      "CAR: 1, average_speed: 96.923\n",
      "CAR: 2, average_speed: 0\n",
      "CAR: 3, average_speed: 0\n",
      "CAR: 4, average_speed: 0\n"
     ]
    }
   ],
   "source": [
    "for car in speeds_dict.items():\n",
    "    print(f\"CAR: {car[0]}, average_speed: {car[1]['avg_speed']}\")"
   ]
  },
  {
   "cell_type": "code",
   "execution_count": 13,
   "metadata": {},
   "outputs": [
    {
     "name": "stdout",
     "output_type": "stream",
     "text": [
      "{'P1': 94.12, 'P2': 94.4, 'P3': 94.66, 'P4': 94.92, 'P5': 95.16, 'delta12': 0.28, 'delta23': 0.26, 'delta34': 0.26, 'delta45': 0.24, 'total_delta': 1.039999999999992, 'speed12': 90.0, 'speed23': 96.923, 'speed34': 96.923, 'speed45': 105.0, 'avg_speed': 96.923}\n"
     ]
    }
   ],
   "source": [
    "for val in speeds_dict.values():\n",
    "    if val['avg_speed'] !=0:\n",
    "        print(val)"
   ]
  }
 ],
 "metadata": {
  "kernelspec": {
   "display_name": "Python 3",
   "language": "python",
   "name": "python3"
  },
  "language_info": {
   "codemirror_mode": {
    "name": "ipython",
    "version": 3
   },
   "file_extension": ".py",
   "mimetype": "text/x-python",
   "name": "python",
   "nbconvert_exporter": "python",
   "pygments_lexer": "ipython3",
   "version": "3.11.2"
  },
  "orig_nbformat": 4
 },
 "nbformat": 4,
 "nbformat_minor": 2
}
