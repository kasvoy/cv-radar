{
 "cells": [
  {
   "cell_type": "code",
   "execution_count": null,
   "metadata": {},
   "outputs": [],
   "source": [
    "import cv2\n",
    "import torch\n",
    "import numpy as np\n",
    "\n",
    "model = torch.hub.load('ultralytics/yolov5', 'yolov5m', pretrained =True)\n",
    "\n",
    "video_path = \"data/session5_center/video.avi\""
   ]
  },
  {
   "cell_type": "code",
   "execution_count": null,
   "metadata": {},
   "outputs": [],
   "source": [
    "br = [1598, 967]\n",
    "bl = [470, 924]\n",
    "tl = [911, 85]\n",
    "tr = [1273, 85]\n",
    "\n",
    "br_new = [1400, 959]\n",
    "tr_new = [1400, 60]\n",
    "tl_new = [1000 ,60]\n",
    "bl_new = [1000, 959]\n",
    "\n",
    "src = np.float32([tl, tr, br, bl])\n",
    "dst = np.float32([tl_new, tr_new, br_new, bl_new])\n",
    "\n",
    "transform_matrix = cv2.getPerspectiveTransform(src, dst)"
   ]
  },
  {
   "cell_type": "code",
   "execution_count": null,
   "metadata": {},
   "outputs": [],
   "source": [
    "transform_matrix"
   ]
  },
  {
   "cell_type": "code",
   "execution_count": null,
   "metadata": {},
   "outputs": [],
   "source": [
    "\"\"\"\n",
    "Original points (leftmost points starting from up):\n",
    "\n",
    "p1: (774, 85)\n",
    "p2: (706, 163)\n",
    "p3: (601, 284)\n",
    "p4: (423, 491)\n",
    "p5: (79, 909)\n",
    "\n",
    "\n",
    "Transformed:\n",
    "\n",
    "p1: (845, 60)\n",
    "p2: (845, 277)\n",
    "p3: (845, 502)\n",
    "p4: (845, 731)\n",
    "p5: (851, 956)\n",
    "\"\"\""
   ]
  },
  {
   "cell_type": "code",
   "execution_count": null,
   "metadata": {},
   "outputs": [],
   "source": [
    "#ROI includes only the lanes going in direction of the camera\n",
    "def extract_roi(frame):\n",
    "    return frame[:, :1450] "
   ]
  },
  {
   "cell_type": "code",
   "execution_count": null,
   "metadata": {},
   "outputs": [],
   "source": [
    "def get_point_under_transform(pt, transform_matrix):\n",
    "    #point has to be an np.array, dtype=np.float32\n",
    "    return cv2.perspectiveTransform(pt.reshape(-1, 1, 2), transform_matrix).reshape(2,)"
   ]
  },
  {
   "cell_type": "code",
   "execution_count": null,
   "metadata": {},
   "outputs": [],
   "source": [
    "#function that converts yolov5's bounding box format to ltwh format for deepsort\n",
    "def xyxy_to_bb(result_tensor):\n",
    "    bbs = []\n",
    "    \n",
    "    for det_tensor in result_tensor:\n",
    "        det_list = det_tensor.tolist()\n",
    "        \n",
    "        x_min = det_list[0]\n",
    "        y_min = det_list[1]\n",
    "        x_max = det_list[2]\n",
    "        y_max = det_list[3]\n",
    "        conf = det_list[4]\n",
    "        det_class = det_list[5]\n",
    "        \n",
    "        height = y_max - y_min\n",
    "        width = x_max - x_min\n",
    "        \n",
    "        ltwh = [x_min, y_min, width, height], conf, det_class\n",
    "        #consider only vehicles\n",
    "        if det_class in {2, 3, 5, 7}:\n",
    "            bbs.append(ltwh)\n",
    "    return bbs   "
   ]
  },
  {
   "cell_type": "code",
   "execution_count": null,
   "metadata": {},
   "outputs": [],
   "source": [
    "def play_transformed_vid(video_path, transform_matrix):\n",
    "    \n",
    "    cap = cv2.VideoCapture(video_path)\n",
    "    \n",
    "    while cap.isOpened():\n",
    "        \n",
    "        ret, frame = cap.read()\n",
    "        \n",
    "        if ret:\n",
    "            \n",
    "            current_time = cap.get(cv2.CAP_PROP_POS_MSEC) / 1000\n",
    "\n",
    "            # Display the current runtime in seconds\n",
    "            #print(\"Current Runtime: {} seconds\".format(current_time))\n",
    "            \n",
    "            cv2.imshow('t', cv2.warpPerspective(frame, transform_matrix, (1920,1080)))\n",
    "            \n",
    "            if cv2.waitKey(10) & 0xFF == ord('q'):\n",
    "                break\n",
    "            \n",
    "        else:\n",
    "            break    \n",
    "    \n",
    "    cap.release()\n",
    "    cv2.destroyAllWindows()\n",
    "    "
   ]
  },
  {
   "cell_type": "code",
   "execution_count": null,
   "metadata": {},
   "outputs": [],
   "source": [
    "#play_transformed_vid(video_path, transform_matrix)"
   ]
  },
  {
   "cell_type": "code",
   "execution_count": null,
   "metadata": {},
   "outputs": [],
   "source": [
    "#show model detections\n",
    "def show_dets(video_path):\n",
    "    video = cv2.VideoCapture(video_path)\n",
    "    \n",
    "    while video.isOpened():\n",
    "        \n",
    "        ret, frame = video.read()\n",
    "        \n",
    "        if ret:\n",
    "        \n",
    "            cv2.namedWindow(\"Resized_Window\", cv2.WINDOW_NORMAL)\n",
    "            cv2.resizeWindow(\"Resized_Window\", 1920, 1080)\n",
    "        \n",
    "            result = model(extract_roi(frame))\n",
    "                \n",
    "            cv2.imshow(\"Resized_Window\", np.squeeze(result.render()))\n",
    "        else:\n",
    "            break\n",
    "    \n",
    "        if cv2.waitKey(10) & 0xFF == ord('q'):\n",
    "            break\n",
    "        \n",
    "    video.release()\n",
    "    cv2.destroyAllWindows()"
   ]
  },
  {
   "cell_type": "code",
   "execution_count": null,
   "metadata": {},
   "outputs": [],
   "source": [
    "def show_nth_frame(video_path, n, transformed=True):\n",
    "    cap = cv2.VideoCapture(video_path)\n",
    "    cap.set(cv2.CAP_PROP_POS_FRAMES, n)\n",
    "    _, frame = cap.read()\n",
    "\n",
    "    if transformed:\n",
    "        cv2.imshow(\"frame\", cv2.warpPerspective(frame, transform_matrix, (1920,1080)))\n",
    "    else:\n",
    "        cv2.imshow(\"frame\", frame)\n",
    "\n",
    "    cv2.waitKey(0)\n",
    "    cv2.destroyAllWindows()\n",
    "    cap.release()"
   ]
  },
  {
   "cell_type": "code",
   "execution_count": null,
   "metadata": {},
   "outputs": [],
   "source": [
    "def show_time_frame(video_path, video_time = 25, transformed=True): \n",
    "        \n",
    "    cap = cv2.VideoCapture(video_path)\n",
    "        \n",
    "    cap.set(cv2.CAP_PROP_POS_MSEC,video_time*1000) \n",
    "    \n",
    "    _, frame = cap.read()\n",
    "    \n",
    "    if transformed:\n",
    "        cv2.imshow(\"frame\", cv2.warpPerspective(frame, transform_matrix, (1920,1080)))\n",
    "    else:\n",
    "        cv2.imshow(\"frame\", frame)\n",
    "    \n",
    "    cv2.waitKey(0)\n",
    "    cv2.destroyAllWindows()\n",
    "    cap.release()"
   ]
  },
  {
   "cell_type": "code",
   "execution_count": null,
   "metadata": {},
   "outputs": [],
   "source": [
    "def display_video_time(cap, frame):\n",
    "    current_time = cap.get(cv2.CAP_PROP_POS_MSEC) / 1000\n",
    "    current_time_trunc = float('{:.2f}'.format(current_time))\n",
    "\n",
    "    text = f\"Video time: {current_time_trunc}\"\n",
    "\n",
    "    cv2.putText(frame, text, (200, 200), cv2.FONT_HERSHEY_SIMPLEX, 1, (255, 255, 255), 2, 2)"
   ]
  },
  {
   "cell_type": "code",
   "execution_count": null,
   "metadata": {},
   "outputs": [],
   "source": [
    "#add an entry to the dictionary which cars crossed which points at what times - changes state of dictionary\n",
    "def assign_point_time(speeds_dict, point_y_coord, point_name, br_transformed, track_id, cap, tolerance):\n",
    "\n",
    "    if br_transformed[1] >= point_y_coord and br_transformed[1] <= point_y_coord+tolerance:\n",
    "        point_time = cap.get(cv2.CAP_PROP_POS_MSEC) / 1000\n",
    "        \n",
    "        speeds_dict[track_id][point_name] = float('{:.2f}'.format(point_time))\n",
    "        \n",
    "        print(f'{track_id}: {point_name} crossed')"
   ]
  },
  {
   "cell_type": "code",
   "execution_count": null,
   "metadata": {},
   "outputs": [],
   "source": [
    "from deep_sort_realtime.deepsort_tracker import DeepSort\n",
    "\n",
    "def play_tracker_video(video_path, transform_matrix=None, video_time=30):\n",
    "\n",
    "    cap = cv2.VideoCapture(video_path)\n",
    "    cap.set(cv2.CAP_PROP_POS_MSEC,video_time*1000)\n",
    "    \n",
    "    tracker = DeepSort(max_age=1, n_init=2, nms_max_overlap=1.0,embedder_gpu=True)\n",
    "    \n",
    "    #coordinates of the 5 marked lines in transformed space\n",
    "    #points are roughly equidistant - 7 meters real world space\n",
    "    p1 = [845, 60]\n",
    "    p2 = [845, 277]\n",
    "    p3 = [845, 502]\n",
    "    p4 = [845, 731]\n",
    "    p5 = [851, 956]\n",
    "    \n",
    "    speeds_dict = dict()\n",
    "\n",
    "    while cap.isOpened():\n",
    "        ret, frame = cap.read()\n",
    "        frame = extract_roi(frame)\n",
    "            \n",
    "        if ret:\n",
    "            \n",
    "            display_video_time(cap, frame)\n",
    "            \n",
    "            results = model(frame)\n",
    "            bbs = xyxy_to_bb(results.xyxy[0])\n",
    "            \n",
    "            tracks = tracker.update_tracks(bbs, frame=frame) \n",
    "            for track in tracks:\n",
    "                if not track.is_confirmed():\n",
    "                    continue\n",
    "                track_id = track.track_id\n",
    "                \n",
    "                bbox = list(track.to_ltrb())\n",
    "                br = np.array([int(bbox[2]), int(bbox[3])], dtype=np.float32)\n",
    "                br_transformed = get_point_under_transform(br, transform_matrix)\n",
    "                \n",
    "                if track_id not in speeds_dict:\n",
    "                    speeds_dict[track_id] = {'P1': 0, 'P2': 0, 'P3': 0, 'P4': 0, 'P5': 0}\n",
    "                    \n",
    "                \n",
    "                    \n",
    "                txt = 'id:' + str(track.track_id)\n",
    "                \n",
    "                (label_width,label_height), baseline = cv2.getTextSize(txt , cv2.FONT_HERSHEY_SIMPLEX,1,1)\n",
    "                org = tuple(map(int,[int(bbox[0]),int(bbox[1])-baseline]))\n",
    "\n",
    "                cv2.rectangle(frame, (int(bbox[0]), int(bbox[1])), (int(bbox[2]), int(bbox[3])), (0,255,0), 1)\n",
    "                cv2.putText(frame, txt, org, cv2.FONT_HERSHEY_SIMPLEX, 1, (255,255,255), 1)\n",
    "            \n",
    "            \n",
    "            cv2.imshow('Video', cv2.warpPerspective(frame, transform_matrix, (1920,1080)))\n",
    "            \n",
    "            #cv2.imshow('Video', frame)\n",
    "            key = cv2.waitKey(1)\n",
    "            \n",
    "            if key & 0xFF == ord('q'):\n",
    "                break\n",
    "            if key & 0xFF == ord('p'):\n",
    "                cv2.waitKey(-1)\n",
    "        \n",
    "        else:\n",
    "            break\n",
    "\n",
    "\n",
    "    cap.release()\n",
    "    cv2.destroyAllWindows()\n",
    "    \n",
    "    print(speeds_dict)"
   ]
  },
  {
   "cell_type": "code",
   "execution_count": null,
   "metadata": {},
   "outputs": [],
   "source": [
    "play_tracker_video(video_path, transform_matrix, video_time=30)"
   ]
  },
  {
   "cell_type": "code",
   "execution_count": null,
   "metadata": {},
   "outputs": [],
   "source": [
    "show_time_frame(video_path, video_time=31.52)"
   ]
  },
  {
   "cell_type": "code",
   "execution_count": null,
   "metadata": {},
   "outputs": [],
   "source": []
  }
 ],
 "metadata": {
  "kernelspec": {
   "display_name": "Python 3",
   "language": "python",
   "name": "python3"
  },
  "language_info": {
   "codemirror_mode": {
    "name": "ipython",
    "version": 3
   },
   "file_extension": ".py",
   "mimetype": "text/x-python",
   "name": "python",
   "nbconvert_exporter": "python",
   "pygments_lexer": "ipython3",
   "version": "3.11.2"
  },
  "orig_nbformat": 4
 },
 "nbformat": 4,
 "nbformat_minor": 2
}
