{
 "cells": [
  {
   "cell_type": "code",
   "execution_count": 1,
   "metadata": {},
   "outputs": [
    {
     "name": "stderr",
     "output_type": "stream",
     "text": [
      "Using cache found in /home/kasvoy/.cache/torch/hub/ultralytics_yolov5_master\n",
      "YOLOv5 🚀 2023-3-26 Python-3.11.2 torch-2.0.0+cu117 CUDA:0 (NVIDIA GeForce GTX 1060 6GB, 6070MiB)\n",
      "\n",
      "Fusing layers... \n",
      "YOLOv5m summary: 290 layers, 21172173 parameters, 0 gradients\n",
      "Adding AutoShape... \n"
     ]
    }
   ],
   "source": [
    "import cv2\n",
    "import torch\n",
    "import numpy as np\n",
    "\n",
    "\n",
    "model = torch.hub.load('ultralytics/yolov5', 'yolov5m', pretrained =True)\n",
    "\n",
    "video_path = \"data/session5_center/video.avi\""
   ]
  },
  {
   "cell_type": "code",
   "execution_count": 2,
   "metadata": {},
   "outputs": [],
   "source": [
    "def xyxy_to_bb(result_tensor):\n",
    "    bbs = []\n",
    "    \n",
    "    for det_tensor in result_tensor:\n",
    "        det_list = det_tensor.tolist()\n",
    "        \n",
    "        x_min = det_list[0]\n",
    "        y_min = det_list[1]\n",
    "        x_max = det_list[2]\n",
    "        y_max = det_list[3]\n",
    "        conf = det_list[4]\n",
    "        det_class = det_list[5]\n",
    "        \n",
    "        height = y_max - y_min\n",
    "        width = x_max - x_min\n",
    "\n",
    "        \n",
    "        ltwh = [x_min, y_min, width, height], conf, det_class\n",
    "        #consider only vehicles\n",
    "        if det_class in {2, 3, 5, 7}:\n",
    "            bbs.append(ltwh)\n",
    "    return bbs   "
   ]
  },
  {
   "cell_type": "code",
   "execution_count": 3,
   "metadata": {},
   "outputs": [],
   "source": [
    "def show_dets(video_path):\n",
    "    video = cv2.VideoCapture(video_path)\n",
    "    \n",
    "    while video.isOpened():\n",
    "        \n",
    "        ret, frame = video.read()\n",
    "        \n",
    "        if ret:\n",
    "            result = model(frame)\n",
    "            cv2.imshow(\"v\", np.squeeze(result.render()))\n",
    "        else:\n",
    "            break\n",
    "    \n",
    "        if cv2.waitKey(10) & 0xFF == ord('q'):\n",
    "            break\n",
    "    video.release()\n",
    "    cv2.destroyAllWindows()\n",
    "    \n",
    "    "
   ]
  },
  {
   "cell_type": "code",
   "execution_count": 7,
   "metadata": {},
   "outputs": [],
   "source": [
    "show_dets(video_path)"
   ]
  },
  {
   "cell_type": "code",
   "execution_count": 10,
   "metadata": {},
   "outputs": [],
   "source": [
    "from deep_sort_realtime.deepsort_tracker import DeepSort\n",
    "\n",
    "cap = cv2.VideoCapture(video_path)\n",
    "tracker = DeepSort(max_age=3, n_init=2, nms_max_overlap=1.0,embedder_gpu=True)\n",
    "\n",
    "while cap.isOpened():\n",
    "    ret, frame = cap.read()\n",
    "    \n",
    "            \n",
    "    if ret:\n",
    "        results = model(frame)\n",
    "        bbs = xyxy_to_bb(results.xyxy[0])\n",
    "        \n",
    "        tracks = tracker.update_tracks(bbs, frame=frame) \n",
    "        for track in tracks:\n",
    "            if not track.is_confirmed():\n",
    "                continue\n",
    "            track_id = track.track_id\n",
    "            ltrb = track.to_ltrb()\n",
    "            bbox = list(track.to_tlbr())\n",
    "            \n",
    "            txt = 'id:' + str(track.track_id)\n",
    "            (label_width,label_height), baseline = cv2.getTextSize(txt , cv2.FONT_HERSHEY_SIMPLEX,1,1)\n",
    "            top_left = tuple(map(int,[int(bbox[0]),int(bbox[1])-(label_height+baseline)]))\n",
    "            top_right = tuple(map(int,[int(bbox[0])+label_width,int(bbox[1])]))\n",
    "            org = tuple(map(int,[int(bbox[0]),int(bbox[1])-baseline]))\n",
    "\n",
    "            cv2.rectangle(frame, (int(bbox[0]), int(bbox[1])), (int(bbox[2]), int(bbox[3])), (255,0,0), 1)\n",
    "            cv2.putText(frame, txt, org, cv2.FONT_HERSHEY_SIMPLEX, 1, (255,255,255), 1)\n",
    "        \n",
    "        cv2.imshow('Video', frame)\n",
    "        if cv2.waitKey(1) & 0xFF == ord('q'):\n",
    "            break\n",
    "        \n",
    "    else:\n",
    "        break\n",
    "\n",
    "\n",
    "cap.release()\n",
    "cv2.destroyAllWindows()\n",
    "\n"
   ]
  },
  {
   "cell_type": "code",
   "execution_count": null,
   "metadata": {},
   "outputs": [],
   "source": []
  }
 ],
 "metadata": {
  "kernelspec": {
   "display_name": "Python 3",
   "language": "python",
   "name": "python3"
  },
  "language_info": {
   "codemirror_mode": {
    "name": "ipython",
    "version": 3
   },
   "file_extension": ".py",
   "mimetype": "text/x-python",
   "name": "python",
   "nbconvert_exporter": "python",
   "pygments_lexer": "ipython3",
   "version": "3.11.2"
  },
  "orig_nbformat": 4
 },
 "nbformat": 4,
 "nbformat_minor": 2
}
