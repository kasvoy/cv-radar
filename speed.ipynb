{
 "cells": [
  {
   "cell_type": "code",
   "execution_count": 3,
   "metadata": {},
   "outputs": [
    {
     "name": "stderr",
     "output_type": "stream",
     "text": [
      "Using cache found in /home/kasvoy/.cache/torch/hub/ultralytics_yolov5_master\n",
      "YOLOv5 🚀 2023-3-26 Python-3.11.2 torch-2.0.0+cu117 CUDA:0 (NVIDIA GeForce GTX 1060 6GB, 6070MiB)\n",
      "\n",
      "Fusing layers... \n",
      "YOLOv5m summary: 290 layers, 21172173 parameters, 0 gradients\n",
      "Adding AutoShape... \n"
     ]
    }
   ],
   "source": [
    "import cv2\n",
    "import torch\n",
    "import numpy as np\n",
    "\n",
    "model = torch.hub.load('ultralytics/yolov5', 'yolov5m', pretrained =True)\n",
    "\n",
    "video_path = \"data/session5_center/video.avi\""
   ]
  },
  {
   "cell_type": "code",
   "execution_count": 4,
   "metadata": {},
   "outputs": [],
   "source": [
    "br = [1598, 967]\n",
    "bl = [470, 924]\n",
    "tl = [911, 85]\n",
    "tr = [1273, 85]\n",
    "\n",
    "br_new = [1400, 959]\n",
    "tr_new = [1400, 60]\n",
    "tl_new = [1000 ,60]\n",
    "bl_new = [1000, 959]\n",
    "\n",
    "src = np.float32([tl, tr, br, bl])\n",
    "dst = np.float32([tl_new, tr_new, br_new, bl_new])\n",
    "\n",
    "transform_matrix = cv2.getPerspectiveTransform(src, dst)"
   ]
  },
  {
   "cell_type": "code",
   "execution_count": 5,
   "metadata": {},
   "outputs": [
    {
     "data": {
      "text/plain": [
       "array([[     1.5617,      4.1251,     -435.51],\n",
       "       [  0.0035754,      4.6042,     -314.34],\n",
       "       [  5.959e-05,   0.0033356,           1]])"
      ]
     },
     "execution_count": 5,
     "metadata": {},
     "output_type": "execute_result"
    }
   ],
   "source": [
    "transform_matrix"
   ]
  },
  {
   "cell_type": "code",
   "execution_count": 6,
   "metadata": {},
   "outputs": [
    {
     "data": {
      "text/plain": [
       "'\\nOriginal points (leftmost points starting from up):\\n\\np1: (774, 85)\\np2: (706, 163)\\np3: (601, 284)\\np4: (423, 491)\\np5: (79, 909)\\n\\n\\nTransformed:\\n\\np1: (845, 60)\\np2: (845, 277)\\np3: (845, 502)\\np4: (845, 731)\\np5: (851, 956)\\n'"
      ]
     },
     "execution_count": 6,
     "metadata": {},
     "output_type": "execute_result"
    }
   ],
   "source": [
    "\"\"\"\n",
    "Original points (leftmost points starting from up):\n",
    "\n",
    "p1: (774, 85)\n",
    "p2: (706, 163)\n",
    "p3: (601, 284)\n",
    "p4: (423, 491)\n",
    "p5: (79, 909)\n",
    "\n",
    "\n",
    "Transformed:\n",
    "\n",
    "p1: (845, 60)\n",
    "p2: (845, 277)\n",
    "p3: (845, 502)\n",
    "p4: (845, 731)\n",
    "p5: (851, 956)\n",
    "\"\"\""
   ]
  },
  {
   "cell_type": "code",
   "execution_count": 7,
   "metadata": {},
   "outputs": [],
   "source": [
    "#ROI includes only the lanes going in direction of the camera\n",
    "def extract_roi(frame):\n",
    "    return frame[:, :1450] "
   ]
  },
  {
   "cell_type": "code",
   "execution_count": 8,
   "metadata": {},
   "outputs": [],
   "source": [
    "def get_point_under_transform(pt, transform_matrix):\n",
    "    #point has to be an np.array, dtype=np.float32\n",
    "    return cv2.perspectiveTransform(pt.reshape(-1, 1, 2), transform_matrix).reshape(2,)"
   ]
  },
  {
   "cell_type": "code",
   "execution_count": 9,
   "metadata": {},
   "outputs": [],
   "source": [
    "#function that converts yolov5's bounding box format to ltwh format for deepsort\n",
    "def xyxy_to_bb(result_tensor):\n",
    "    bbs = []\n",
    "    \n",
    "    for det_tensor in result_tensor:\n",
    "        det_list = det_tensor.tolist()\n",
    "        \n",
    "        x_min = det_list[0]\n",
    "        y_min = det_list[1]\n",
    "        x_max = det_list[2]\n",
    "        y_max = det_list[3]\n",
    "        conf = det_list[4]\n",
    "        det_class = det_list[5]\n",
    "        \n",
    "        height = y_max - y_min\n",
    "        width = x_max - x_min\n",
    "        \n",
    "        ltwh = [x_min, y_min, width, height], conf, det_class\n",
    "        #consider only vehicles\n",
    "        if det_class in {2, 3, 5, 7}:\n",
    "            bbs.append(ltwh)\n",
    "    return bbs   "
   ]
  },
  {
   "cell_type": "code",
   "execution_count": 10,
   "metadata": {},
   "outputs": [],
   "source": [
    "def play_transformed_vid(video_path, transform_matrix):\n",
    "    \n",
    "    cap = cv2.VideoCapture(video_path)\n",
    "    \n",
    "    while cap.isOpened():\n",
    "        \n",
    "        ret, frame = cap.read()\n",
    "        \n",
    "        if ret:\n",
    "            \n",
    "            current_time = cap.get(cv2.CAP_PROP_POS_MSEC) / 1000\n",
    "\n",
    "            # Display the current runtime in seconds\n",
    "            #print(\"Current Runtime: {} seconds\".format(current_time))\n",
    "            \n",
    "            cv2.imshow('t', cv2.warpPerspective(frame, transform_matrix, (1920,1080)))\n",
    "            \n",
    "            if cv2.waitKey(10) & 0xFF == ord('q'):\n",
    "                break\n",
    "            \n",
    "        else:\n",
    "            break    \n",
    "    \n",
    "    cap.release()\n",
    "    cv2.destroyAllWindows()\n",
    "    "
   ]
  },
  {
   "cell_type": "code",
   "execution_count": 11,
   "metadata": {},
   "outputs": [],
   "source": [
    "#play_transformed_vid(video_path, transform_matrix)"
   ]
  },
  {
   "cell_type": "code",
   "execution_count": 12,
   "metadata": {},
   "outputs": [],
   "source": [
    "#show model detections\n",
    "def show_dets(video_path):\n",
    "    video = cv2.VideoCapture(video_path)\n",
    "    \n",
    "    while video.isOpened():\n",
    "        \n",
    "        ret, frame = video.read()\n",
    "        \n",
    "        if ret:\n",
    "        \n",
    "            cv2.namedWindow(\"Resized_Window\", cv2.WINDOW_NORMAL)\n",
    "            cv2.resizeWindow(\"Resized_Window\", 1920, 1080)\n",
    "        \n",
    "            result = model(extract_roi(frame))\n",
    "                \n",
    "            cv2.imshow(\"Resized_Window\", np.squeeze(result.render()))\n",
    "        else:\n",
    "            break\n",
    "    \n",
    "        if cv2.waitKey(10) & 0xFF == ord('q'):\n",
    "            break\n",
    "        \n",
    "    video.release()\n",
    "    cv2.destroyAllWindows()"
   ]
  },
  {
   "cell_type": "code",
   "execution_count": 13,
   "metadata": {},
   "outputs": [],
   "source": [
    "def show_nth_frame(video_path, n, transformed=True):\n",
    "    cap = cv2.VideoCapture(video_path)\n",
    "    cap.set(cv2.CAP_PROP_POS_FRAMES, n)\n",
    "    _, frame = cap.read()\n",
    "\n",
    "    if transformed:\n",
    "        cv2.imshow(\"frame\", cv2.warpPerspective(frame, transform_matrix, (1920,1080)))\n",
    "    else:\n",
    "        cv2.imshow(\"frame\", frame)\n",
    "\n",
    "    cv2.waitKey(0)\n",
    "    cv2.destroyAllWindows()\n",
    "    cap.release()"
   ]
  },
  {
   "cell_type": "code",
   "execution_count": 14,
   "metadata": {},
   "outputs": [],
   "source": [
    "def show_time_frame(video_path, video_time = 25, transformed=True): \n",
    "        \n",
    "    cap = cv2.VideoCapture(video_path)\n",
    "        \n",
    "    cap.set(cv2.CAP_PROP_POS_MSEC,video_time*1000) \n",
    "    \n",
    "    _, frame = cap.read()\n",
    "    \n",
    "    if transformed:\n",
    "        cv2.imshow(\"frame\", cv2.warpPerspective(frame, transform_matrix, (1920,1080)))\n",
    "    else:\n",
    "        cv2.imshow(\"frame\", frame)\n",
    "    \n",
    "    cv2.waitKey(0)\n",
    "    cv2.destroyAllWindows()\n",
    "    cap.release()"
   ]
  },
  {
   "cell_type": "code",
   "execution_count": 15,
   "metadata": {},
   "outputs": [],
   "source": [
    "def display_video_time(current_time, frame):\n",
    "    current_time_trunc = float('{:.2f}'.format(current_time))\n",
    "\n",
    "    text = f\"Video time: {current_time_trunc}\"\n",
    "\n",
    "    cv2.putText(frame, text, (200, 200), cv2.FONT_HERSHEY_SIMPLEX, 1, (255, 255, 255), 2, 2)"
   ]
  },
  {
   "cell_type": "code",
   "execution_count": 84,
   "metadata": {},
   "outputs": [],
   "source": [
    "#add an entry to the dictionary which cars crossed which points at what times - changes state of dictionary\n",
    "def assign_point_time(speeds_dict, points, br_transformed, track_id, cap, tolerance):\n",
    "    \n",
    "    time = float('{:.2f}'.format(cap.get(cv2.CAP_PROP_POS_MSEC)/1000))\n",
    "    \n",
    "    for point in points.items():\n",
    "        \n",
    "        point_name = point[0]\n",
    "        point_y_coord = point[1][1]\n",
    "        previous_point_name = 'P'+str(int(point_name[1])-1)\n",
    "        offset = 0\n",
    "        first_time_here = False    \n",
    "        \n",
    "        if point_name == 'P1':\n",
    "            offset = 10\n",
    "            \n",
    "        if br_transformed[1] >= point_y_coord-(tolerance+offset) and br_transformed[1] <= point_y_coord+tolerance:\n",
    "            if speeds_dict[track_id][point_name] == 0:\n",
    "                speeds_dict[track_id][point_name] = time\n",
    "                first_time_here = True\n",
    "            \n",
    "            if previous_point_name in ['P2', 'P3', 'P4'] and first_time_here:\n",
    "                time_at_prev = speeds_dict[track_id][previous_point_name]\n",
    "                \n",
    "                if time_at_prev != 0:\n",
    "                    delta = round(time - time_at_prev, 3)\n",
    "                    section_speed = 7/delta\n",
    "                                        \n",
    "                    if previous_point_name == 'P2':\n",
    "                        speeds_dict[track_id]['delta23'] = delta\n",
    "                        speeds_dict[track_id]['speed23'] = section_speed\n",
    "                                            \n",
    "                    elif previous_point_name == 'P3':\n",
    "                        speeds_dict[track_id]['delta34'] = delta\n",
    "                        speeds_dict[track_id]['speed34'] = section_speed\n",
    "\n",
    "                    else:\n",
    "                        speeds_dict[track_id]['delta45'] = delta \n",
    "                        speeds_dict[track_id]['speed45'] = section_speed"
   ]
  },
  {
   "cell_type": "code",
   "execution_count": 76,
   "metadata": {},
   "outputs": [],
   "source": [
    "from deep_sort_realtime.deepsort_tracker import DeepSort\n",
    "\n",
    "def play_tracker_video(video_path, transform_matrix=None, video_time=30, speed_limit=80):\n",
    "\n",
    "    cap = cv2.VideoCapture(video_path)\n",
    "    cap.set(cv2.CAP_PROP_POS_MSEC,video_time*1000)\n",
    "    \n",
    "    tracker = DeepSort(max_age=1, n_init=2, nms_max_overlap=1.0,embedder_gpu=True)\n",
    "    \n",
    "    #coordinates of the 5 marked lines in transformed space\n",
    "    #points are roughly equidistant - 7 meters real world space\n",
    "    points = {\n",
    "        'P1': [845, 60],\n",
    "        'P2': [845, 277],\n",
    "        'P3': [845, 502],\n",
    "        'P4': [845, 731],\n",
    "        'P5': [851, 956]\n",
    "    }\n",
    "    \n",
    "    section_length = 7\n",
    "    total_length = 28\n",
    "    len25 = 21\n",
    "    \n",
    "    speeds_dict = dict()\n",
    "\n",
    "    while cap.isOpened():\n",
    "        ret, frame = cap.read()\n",
    "        frame = extract_roi(frame)\n",
    "            \n",
    "        if ret:\n",
    "            current_time = float('{:.2f}'.format(cap.get(cv2.CAP_PROP_POS_MSEC)/1000))\n",
    "            display_video_time(current_time, frame)\n",
    "            \n",
    "            results = model(frame)\n",
    "            bbs = xyxy_to_bb(results.xyxy[0])\n",
    "            \n",
    "            tracks = tracker.update_tracks(bbs, frame=frame) \n",
    "            for track in tracks:\n",
    "                if not track.is_confirmed():\n",
    "                    continue\n",
    "                track_id = track.track_id\n",
    "                \n",
    "                #[bbox[0], bbox[1]] <-- TOP LEFT, [bbox[2], bbox[3]] <-- BOTTOM RIGHT\n",
    "                bbox = list(track.to_ltrb())\n",
    "                br = np.array([int(bbox[2]), int(bbox[3])], dtype=np.float32)\n",
    "                #bl = np.array([int(bbox[2]), int(bbox[3])], dtype=np.float32)\n",
    "                \n",
    "                br_transformed = get_point_under_transform(br, transform_matrix)\n",
    "                \n",
    "                if track_id not in speeds_dict:\n",
    "                    speeds_dict[track_id] = {\n",
    "                        'P1': 0, 'P2': 0, 'P3': 0, 'P4': 0, 'P5': 0,\n",
    "                        'delta23': 0, 'delta34': 0, 'delta45': 0, 'total_delta': 0,\n",
    "                        'speed23': 0, 'speed34': 0, 'speed45': 0, 'avg_speed': 0}\n",
    "                 \n",
    "                assign_point_time(speeds_dict, points, br_transformed, track_id, cap, tolerance=10)\n",
    "                \n",
    "                \n",
    "                avg_speed_kph = speeds_dict[track_id]['avg_speed']\n",
    "                \n",
    "                point_times = list(speeds_dict[track_id].values())[:5]  \n",
    "                track_deltas = list(speeds_dict[track_id].values())[5:8]\n",
    "                section_speeds = list(speeds_dict[track_id].values())[9:12]\n",
    "                \n",
    "                \n",
    "                #current_speed = next(section_speeds_iter)\n",
    "                 \n",
    "                #average speed calculation\n",
    "                if point_times[0] !=0 and point_times[4] !=0:\n",
    "                    total_delta = point_times[4] - point_times[0]\n",
    "                    speeds_dict[track_id]['total_delta'] = total_delta\n",
    "                    \n",
    "                    speeds_dict[track_id]['avg_speed'] = (total_length/total_delta) * 3.6\n",
    "                    \n",
    "                    text = f\"CAR {track_id}: average speed: {avg_speed_kph}\"\n",
    "                    \n",
    "                    cv2.putText(frame, text, (400,400), cv2.FONT_HERSHEY_SIMPLEX, 1, (255,255,255), 2)\n",
    "                \n",
    "                txt = f\"id: {str(track.track_id)}, current speed: {avg_speed_kph}\"\n",
    "                \n",
    "                (label_width,label_height), baseline = cv2.getTextSize(txt , cv2.FONT_HERSHEY_SIMPLEX,1,1)\n",
    "                org = tuple(map(int,[int(bbox[0]),int(bbox[1])-baseline]))\n",
    "\n",
    "                bbox_color = (0,255,0)\n",
    "                if speeds_dict[track_id]['avg_speed'] > speed_limit:\n",
    "                    bbox_color = (0,0,255)\n",
    "                \n",
    "                cv2.rectangle(frame, (int(bbox[0]), int(bbox[1])), (int(bbox[2]), int(bbox[3])), bbox_color, 1)\n",
    "                cv2.putText(frame, txt, org, cv2.FONT_HERSHEY_SIMPLEX, 1, (255,255,255), 1)\n",
    "            \n",
    "            \n",
    "            #cv2.imshow('Video', cv2.warpPerspective(frame, transform_matrix, (1920,1080)))\n",
    "            cv2.imshow('Video', frame)\n",
    "            key = cv2.waitKey(1)\n",
    "            \n",
    "            if key & 0xFF == ord('q'):\n",
    "                break\n",
    "            if key & 0xFF == ord('p'):\n",
    "                cv2.waitKey(-1)\n",
    "        \n",
    "        else:\n",
    "            break\n",
    "\n",
    "\n",
    "    cap.release()\n",
    "    cv2.destroyAllWindows()\n",
    "    \n",
    "    return speeds_dict"
   ]
  },
  {
   "cell_type": "code",
   "execution_count": 77,
   "metadata": {},
   "outputs": [],
   "source": [
    "#85 s --> gtruth id 23\n",
    "speeds_dict = play_tracker_video(video_path, transform_matrix, video_time=85, speed_limit=80)"
   ]
  },
  {
   "cell_type": "code",
   "execution_count": 78,
   "metadata": {},
   "outputs": [
    {
     "name": "stdout",
     "output_type": "stream",
     "text": [
      "{'P1': 86.34, 'P2': 86.68, 'P3': 86.98, 'P4': 87.3, 'P5': 87.6, 'delta23': 0.3, 'delta34': 0.32, 'delta45': 0.3, 'total_delta': 1.259999999999991, 'speed23': 0, 'speed34': 0, 'speed45': 0, 'avg_speed': 80.00000000000057}\n"
     ]
    }
   ],
   "source": [
    "for val in speeds_dict.values():\n",
    "    if val['avg_speed'] !=0:\n",
    "        print(val)"
   ]
  },
  {
   "cell_type": "code",
   "execution_count": 62,
   "metadata": {},
   "outputs": [
    {
     "data": {
      "text/plain": [
       "1.259999999999991"
      ]
     },
     "execution_count": 62,
     "metadata": {},
     "output_type": "execute_result"
    }
   ],
   "source": [
    "87.6-86.34"
   ]
  },
  {
   "cell_type": "code",
   "execution_count": 63,
   "metadata": {},
   "outputs": [
    {
     "data": {
      "text/plain": [
       "1.2600000000000033"
      ]
     },
     "execution_count": 63,
     "metadata": {},
     "output_type": "execute_result"
    }
   ],
   "source": [
    "0.3+0.32+0.3+(86.68-86.34)"
   ]
  },
  {
   "cell_type": "code",
   "execution_count": 53,
   "metadata": {},
   "outputs": [
    {
     "data": {
      "text/plain": [
       "0.32"
      ]
     },
     "execution_count": 53,
     "metadata": {},
     "output_type": "execute_result"
    }
   ],
   "source": [
    "round(88.08-87.76,3)"
   ]
  },
  {
   "cell_type": "code",
   "execution_count": null,
   "metadata": {},
   "outputs": [],
   "source": [
    "87.6-8"
   ]
  },
  {
   "cell_type": "code",
   "execution_count": 30,
   "metadata": {},
   "outputs": [
    {
     "data": {
      "text/plain": [
       "{'P1': 86.34,\n",
       " 'P2': 86.68,\n",
       " 'P3': 86.98,\n",
       " 'P4': 87.3,\n",
       " 'P5': 87.6,\n",
       " 'delta23': 0.32,\n",
       " 'delta34': 0.32,\n",
       " 'delta45': 0.3,\n",
       " 'total_delta': 1.259999999999991,\n",
       " 'speed23': 0,\n",
       " 'speed34': 0,\n",
       " 'speed45': 0,\n",
       " 'avg_speed': 80.00000000000057}"
      ]
     },
     "execution_count": 30,
     "metadata": {},
     "output_type": "execute_result"
    }
   ],
   "source": [
    "speeds_dict['2']"
   ]
  },
  {
   "cell_type": "code",
   "execution_count": 40,
   "metadata": {},
   "outputs": [
    {
     "data": {
      "text/plain": [
       "[0, 0, 0]"
      ]
     },
     "execution_count": 40,
     "metadata": {},
     "output_type": "execute_result"
    }
   ],
   "source": [
    "list(speeds_dict['2'].values())[9:12]"
   ]
  },
  {
   "cell_type": "code",
   "execution_count": 20,
   "metadata": {},
   "outputs": [],
   "source": [
    "import pickle\n",
    "\n",
    "with open('data/session5_center/gt_data.pkl', 'rb') as pkl_file:\n",
    "    speed_data = pickle.load(pkl_file, encoding='latin')"
   ]
  },
  {
   "cell_type": "code",
   "execution_count": 21,
   "metadata": {},
   "outputs": [
    {
     "data": {
      "text/plain": [
       "[{'acceleration': 0.369,\n",
       "  'intersections': [{'measurementLineId': 1, 'videoTime': 86.304486},\n",
       "   {'measurementLineId': 0, 'videoTime': 87.58067}],\n",
       "  'carId': 23,\n",
       "  'timeIntersectionLastShifted': 87.58067,\n",
       "  'valid': True,\n",
       "  'laneIndex': {0},\n",
       "  'speed': 79.0344},\n",
       " {'acceleration': 0.243,\n",
       "  'intersections': [{'measurementLineId': 1, 'videoTime': 87.39473799999999},\n",
       "   {'measurementLineId': 0, 'videoTime': 88.68946199999999}],\n",
       "  'carId': 24,\n",
       "  'timeIntersectionLastShifted': 88.68946199999999,\n",
       "  'valid': True,\n",
       "  'laneIndex': {0},\n",
       "  'speed': 77.9004},\n",
       " {'acceleration': -0.004,\n",
       "  'intersections': [{'measurementLineId': 1, 'videoTime': 88.575238},\n",
       "   {'measurementLineId': 0, 'videoTime': 89.924822}],\n",
       "  'carId': 25,\n",
       "  'timeIntersectionLastShifted': 89.924822,\n",
       "  'valid': True,\n",
       "  'laneIndex': {0},\n",
       "  'speed': 74.736},\n",
       " {'acceleration': -0.241,\n",
       "  'intersections': [{'measurementLineId': 1, 'videoTime': 91.408238},\n",
       "   {'measurementLineId': 0, 'videoTime': 92.81025}],\n",
       "  'carId': 26,\n",
       "  'timeIntersectionLastShifted': 92.81025,\n",
       "  'valid': True,\n",
       "  'laneIndex': {0},\n",
       "  'speed': 71.9388},\n",
       " {'acceleration': 0.516,\n",
       "  'intersections': [{'measurementLineId': 1, 'videoTime': 94.09156200000001},\n",
       "   {'measurementLineId': 0, 'videoTime': 95.139182}],\n",
       "  'carId': 27,\n",
       "  'timeIntersectionLastShifted': 95.139182,\n",
       "  'valid': True,\n",
       "  'laneIndex': {1},\n",
       "  'speed': 96.2748},\n",
       " {'acceleration': 0.073,\n",
       "  'intersections': [{'measurementLineId': 1, 'videoTime': 94.86965000000001},\n",
       "   {'measurementLineId': 0, 'videoTime': 96.179584}],\n",
       "  'carId': 29,\n",
       "  'timeIntersectionLastShifted': 96.179584,\n",
       "  'valid': True,\n",
       "  'laneIndex': {0},\n",
       "  'speed': 76.99680000000001},\n",
       " {'acceleration': 0.0,\n",
       "  'intersections': [{'measurementLineId': 0, 'videoTime': 96.179584}],\n",
       "  'carId': 28,\n",
       "  'timeIntersectionLastShifted': 96.179584,\n",
       "  'valid': False,\n",
       "  'laneIndex': {1},\n",
       "  'speed': 0.0},\n",
       " {'acceleration': -0.108,\n",
       "  'intersections': [{'measurementLineId': 1, 'videoTime': 96.510002},\n",
       "   {'measurementLineId': 0, 'videoTime': 97.784362}],\n",
       "  'carId': 30,\n",
       "  'timeIntersectionLastShifted': 97.784362,\n",
       "  'valid': True,\n",
       "  'laneIndex': {0},\n",
       "  'speed': 79.146},\n",
       " {'acceleration': -0.484,\n",
       "  'intersections': [{'measurementLineId': 1, 'videoTime': 98.453508},\n",
       "   {'measurementLineId': 0, 'videoTime': 99.595058}],\n",
       "  'carId': 31,\n",
       "  'timeIntersectionLastShifted': 99.595058,\n",
       "  'valid': True,\n",
       "  'laneIndex': {0},\n",
       "  'speed': 88.3548},\n",
       " {'acceleration': -0.734,\n",
       "  'intersections': [{'measurementLineId': 1, 'videoTime': 102.094608},\n",
       "   {'measurementLineId': 0, 'videoTime': 103.393556}],\n",
       "  'carId': 32,\n",
       "  'timeIntersectionLastShifted': 103.393556,\n",
       "  'valid': True,\n",
       "  'laneIndex': {0},\n",
       "  'speed': 77.6484},\n",
       " {'acceleration': 0.574,\n",
       "  'intersections': [{'measurementLineId': 1, 'videoTime': 104.908458},\n",
       "   {'measurementLineId': 0, 'videoTime': 106.101308}],\n",
       "  'carId': 33,\n",
       "  'timeIntersectionLastShifted': 106.101308,\n",
       "  'valid': True,\n",
       "  'laneIndex': {0},\n",
       "  'speed': 84.55319999999999},\n",
       " {'acceleration': 0.0,\n",
       "  'intersections': [{'measurementLineId': 1, 'videoTime': 107.351954},\n",
       "   {'measurementLineId': 0, 'videoTime': 108.435346}],\n",
       "  'carId': 34,\n",
       "  'timeIntersectionLastShifted': 108.435346,\n",
       "  'valid': True,\n",
       "  'laneIndex': {1},\n",
       "  'speed': 93.096},\n",
       " {'acceleration': -0.249,\n",
       "  'intersections': [{'measurementLineId': 1, 'videoTime': 107.111038},\n",
       "   {'measurementLineId': 0, 'videoTime': 108.504652}],\n",
       "  'carId': 35,\n",
       "  'timeIntersectionLastShifted': 108.504652,\n",
       "  'valid': False,\n",
       "  'laneIndex': {0},\n",
       "  'speed': 72.3744},\n",
       " {'acceleration': 0.218,\n",
       "  'intersections': [{'measurementLineId': 1, 'videoTime': 108.26341},\n",
       "   {'measurementLineId': 0, 'videoTime': 109.669648}],\n",
       "  'carId': 36,\n",
       "  'timeIntersectionLastShifted': 109.669648,\n",
       "  'valid': True,\n",
       "  'laneIndex': {0},\n",
       "  'speed': 71.72279999999999},\n",
       " {'acceleration': -0.09,\n",
       "  'intersections': [{'measurementLineId': 1, 'videoTime': 109.007348},\n",
       "   {'measurementLineId': 0, 'videoTime': 110.585536}],\n",
       "  'carId': 37,\n",
       "  'timeIntersectionLastShifted': 110.585536,\n",
       "  'valid': True,\n",
       "  'laneIndex': {0},\n",
       "  'speed': 63.9108},\n",
       " {'acceleration': -0.399,\n",
       "  'intersections': [{'measurementLineId': 1, 'videoTime': 109.900748},\n",
       "   {'measurementLineId': 0, 'videoTime': 111.390884}],\n",
       "  'carId': 38,\n",
       "  'timeIntersectionLastShifted': 111.390884,\n",
       "  'valid': True,\n",
       "  'laneIndex': {0},\n",
       "  'speed': 67.6872},\n",
       " {'acceleration': 0.167,\n",
       "  'intersections': [{'measurementLineId': 1, 'videoTime': 113.62514},\n",
       "   {'measurementLineId': 0, 'videoTime': 114.644592}],\n",
       "  'carId': 39,\n",
       "  'timeIntersectionLastShifted': 114.644592,\n",
       "  'valid': True,\n",
       "  'laneIndex': {1},\n",
       "  'speed': 98.9352},\n",
       " {'acceleration': 0.429,\n",
       "  'intersections': [{'measurementLineId': 1, 'videoTime': 115.797602},\n",
       "   {'measurementLineId': 0, 'videoTime': 116.737724}],\n",
       "  'carId': 40,\n",
       "  'timeIntersectionLastShifted': 116.737724,\n",
       "  'valid': True,\n",
       "  'laneIndex': {1},\n",
       "  'speed': 107.28359999999999},\n",
       " {'acceleration': 0.304,\n",
       "  'intersections': [{'measurementLineId': 1, 'videoTime': 116.029522},\n",
       "   {'measurementLineId': 0, 'videoTime': 117.338362}],\n",
       "  'carId': 41,\n",
       "  'timeIntersectionLastShifted': 117.338362,\n",
       "  'valid': True,\n",
       "  'laneIndex': {0},\n",
       "  'speed': 77.0616},\n",
       " {'acceleration': -0.146,\n",
       "  'intersections': [{'measurementLineId': 1, 'videoTime': 117.205996},\n",
       "   {'measurementLineId': 0, 'videoTime': 118.559692}],\n",
       "  'carId': 42,\n",
       "  'timeIntersectionLastShifted': 118.559692,\n",
       "  'valid': True,\n",
       "  'laneIndex': {0},\n",
       "  'speed': 74.50919999999999},\n",
       " {'acceleration': -0.004,\n",
       "  'intersections': [{'measurementLineId': 1, 'videoTime': 119.86236},\n",
       "   {'measurementLineId': 0, 'videoTime': 121.172924}],\n",
       "  'carId': 43,\n",
       "  'timeIntersectionLastShifted': 121.172924,\n",
       "  'valid': True,\n",
       "  'laneIndex': {0},\n",
       "  'speed': 76.9608},\n",
       " {'acceleration': -0.552,\n",
       "  'intersections': [{'measurementLineId': 1, 'videoTime': 121.264786},\n",
       "   {'measurementLineId': 0, 'videoTime': 122.494584}],\n",
       "  'carId': 44,\n",
       "  'timeIntersectionLastShifted': 122.494584,\n",
       "  'valid': True,\n",
       "  'laneIndex': {0},\n",
       "  'speed': 82.01520000000001},\n",
       " {'acceleration': -0.416,\n",
       "  'intersections': [{'measurementLineId': 1, 'videoTime': 126.292174},\n",
       "   {'measurementLineId': 0, 'videoTime': 127.50387}],\n",
       "  'carId': 45,\n",
       "  'timeIntersectionLastShifted': 127.50387,\n",
       "  'valid': True,\n",
       "  'laneIndex': {0},\n",
       "  'speed': 83.2392},\n",
       " {'acceleration': 0.037,\n",
       "  'intersections': [{'measurementLineId': 1, 'videoTime': 131.828602},\n",
       "   {'measurementLineId': 0, 'videoTime': 133.369246}],\n",
       "  'carId': 46,\n",
       "  'timeIntersectionLastShifted': 133.369246,\n",
       "  'valid': True,\n",
       "  'laneIndex': {0},\n",
       "  'speed': 65.466},\n",
       " {'acceleration': 0.0,\n",
       "  'intersections': [{'measurementLineId': 1, 'videoTime': 133.138702},\n",
       "   {'measurementLineId': 0, 'videoTime': 134.33237400000002}],\n",
       "  'carId': 47,\n",
       "  'timeIntersectionLastShifted': 134.33237400000002,\n",
       "  'valid': True,\n",
       "  'laneIndex': {1},\n",
       "  'speed': 84.4956},\n",
       " {'acceleration': -0.144,\n",
       "  'intersections': [{'measurementLineId': 1, 'videoTime': 133.271204},\n",
       "   {'measurementLineId': 0, 'videoTime': 134.877704}],\n",
       "  'carId': 49,\n",
       "  'timeIntersectionLastShifted': 134.877704,\n",
       "  'valid': False,\n",
       "  'laneIndex': {0},\n",
       "  'speed': 62.784000000000006},\n",
       " {'acceleration': 0.0,\n",
       "  'intersections': [{'measurementLineId': 0, 'videoTime': 134.877704}],\n",
       "  'carId': 48,\n",
       "  'timeIntersectionLastShifted': 134.877704,\n",
       "  'valid': False,\n",
       "  'laneIndex': {1},\n",
       "  'speed': 0.0},\n",
       " {'acceleration': -0.332,\n",
       "  'intersections': [{'measurementLineId': 1, 'videoTime': 134.493942},\n",
       "   {'measurementLineId': 0, 'videoTime': 136.076838}],\n",
       "  'carId': 50,\n",
       "  'timeIntersectionLastShifted': 136.076838,\n",
       "  'valid': True,\n",
       "  'laneIndex': {0},\n",
       "  'speed': 63.72}]"
      ]
     },
     "execution_count": 21,
     "metadata": {},
     "output_type": "execute_result"
    }
   ],
   "source": [
    "speed_data['cars'][22:50]"
   ]
  },
  {
   "cell_type": "code",
   "execution_count": null,
   "metadata": {},
   "outputs": [],
   "source": []
  }
 ],
 "metadata": {
  "kernelspec": {
   "display_name": "Python 3",
   "language": "python",
   "name": "python3"
  },
  "language_info": {
   "codemirror_mode": {
    "name": "ipython",
    "version": 3
   },
   "file_extension": ".py",
   "mimetype": "text/x-python",
   "name": "python",
   "nbconvert_exporter": "python",
   "pygments_lexer": "ipython3",
   "version": "3.11.2"
  },
  "orig_nbformat": 4
 },
 "nbformat": 4,
 "nbformat_minor": 2
}
