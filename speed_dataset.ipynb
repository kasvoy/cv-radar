{
 "cells": [
  {
   "cell_type": "code",
   "execution_count": 2,
   "metadata": {},
   "outputs": [],
   "source": [
    "import cv2\n",
    "\n",
    "video_path = \"data/session5_center/video.avi\"\n",
    "json_gtruth_path = 'data/session5_center_gtruth/system_dubska_optimal_calib.json'"
   ]
  },
  {
   "cell_type": "code",
   "execution_count": 7,
   "metadata": {},
   "outputs": [],
   "source": [
    "import pickle\n",
    "\n",
    "with open('data/session5_center/gt_data.pkl', 'rb') as pkl_file:\n",
    "    speed_data = pickle.load(pkl_file, encoding='latin')"
   ]
  },
  {
   "cell_type": "code",
   "execution_count": 8,
   "metadata": {},
   "outputs": [
    {
     "data": {
      "text/plain": [
       "dict_keys(['distanceMeasurement', 'measurementLines', 'cars', 'fps', 'invalidLanes', 'laneDivLines'])"
      ]
     },
     "execution_count": 8,
     "metadata": {},
     "output_type": "execute_result"
    }
   ],
   "source": [
    "speed_data.keys()"
   ]
  },
  {
   "cell_type": "code",
   "execution_count": 16,
   "metadata": {},
   "outputs": [
    {
     "data": {
      "text/plain": [
       "[{'p2': array([705.8898615 , 163.39016805,   1.        ]),\n",
       "  'distance': 6.98,\n",
       "  'toVP1': True,\n",
       "  'p1': array([774.0498615 ,  85.37706371,   1.        ])},\n",
       " {'p2': array([601.59290859, 283.80046537,   1.        ]),\n",
       "  'distance': 7.013,\n",
       "  'toVP1': True,\n",
       "  'p1': array([705.8898615 , 163.39016805,   1.        ])},\n",
       " {'p2': array([423.06269252, 491.47745152,   1.        ]),\n",
       "  'distance': 7.014,\n",
       "  'toVP1': True,\n",
       "  'p1': array([601.59290859, 283.80046537,   1.        ])},\n",
       " {'p2': array([ 78.91359557, 909.30136288,   1.        ]),\n",
       "  'distance': 6.985,\n",
       "  'toVP1': True,\n",
       "  'p1': array([423.06269252, 491.47745152,   1.        ])},\n",
       " {'p2': array([ 78.91359557, 909.30136288,   1.        ]),\n",
       "  'distance': 27.998,\n",
       "  'toVP1': True,\n",
       "  'p1': array([774.0498615 ,  85.37706371,   1.        ])},\n",
       " {'p2': array([1.27372481e+03, 8.58372964e+01, 1.00000000e+00]),\n",
       "  'distance': 27.998,\n",
       "  'toVP1': True,\n",
       "  'p1': array([1.59889463e+03, 9.67573629e+02, 1.00000000e+00])},\n",
       " {'p2': array([911.29688643,  85.05014958,   1.        ]),\n",
       "  'distance': 7.884,\n",
       "  'toVP1': False,\n",
       "  'p1': array([1.27372481e+03, 8.58372964e+01, 1.00000000e+00])},\n",
       " {'p2': array([469.94154017, 924.38479778,   1.        ]),\n",
       "  'distance': 7.971,\n",
       "  'toVP1': False,\n",
       "  'p1': array([1.59889463e+03, 9.67573629e+02, 1.00000000e+00])}]"
      ]
     },
     "execution_count": 16,
     "metadata": {},
     "output_type": "execute_result"
    }
   ],
   "source": [
    "import pandas as pd\n",
    "\n",
    "speed_df = pd.read_pickle('data/session5_center/gt_data.pkl')\n",
    "\n",
    "speed_df['distanceMeasurement']\n"
   ]
  },
  {
   "cell_type": "code",
   "execution_count": 9,
   "metadata": {},
   "outputs": [
    {
     "data": {
      "text/plain": [
       "[{'p2': array([705.8898615 , 163.39016805,   1.        ]),\n",
       "  'distance': 6.98,\n",
       "  'toVP1': True,\n",
       "  'p1': array([774.0498615 ,  85.37706371,   1.        ])},\n",
       " {'p2': array([601.59290859, 283.80046537,   1.        ]),\n",
       "  'distance': 7.013,\n",
       "  'toVP1': True,\n",
       "  'p1': array([705.8898615 , 163.39016805,   1.        ])},\n",
       " {'p2': array([423.06269252, 491.47745152,   1.        ]),\n",
       "  'distance': 7.014,\n",
       "  'toVP1': True,\n",
       "  'p1': array([601.59290859, 283.80046537,   1.        ])},\n",
       " {'p2': array([ 78.91359557, 909.30136288,   1.        ]),\n",
       "  'distance': 6.985,\n",
       "  'toVP1': True,\n",
       "  'p1': array([423.06269252, 491.47745152,   1.        ])},\n",
       " {'p2': array([ 78.91359557, 909.30136288,   1.        ]),\n",
       "  'distance': 27.998,\n",
       "  'toVP1': True,\n",
       "  'p1': array([774.0498615 ,  85.37706371,   1.        ])},\n",
       " {'p2': array([1.27372481e+03, 8.58372964e+01, 1.00000000e+00]),\n",
       "  'distance': 27.998,\n",
       "  'toVP1': True,\n",
       "  'p1': array([1.59889463e+03, 9.67573629e+02, 1.00000000e+00])},\n",
       " {'p2': array([911.29688643,  85.05014958,   1.        ]),\n",
       "  'distance': 7.884,\n",
       "  'toVP1': False,\n",
       "  'p1': array([1.27372481e+03, 8.58372964e+01, 1.00000000e+00])},\n",
       " {'p2': array([469.94154017, 924.38479778,   1.        ]),\n",
       "  'distance': 7.971,\n",
       "  'toVP1': False,\n",
       "  'p1': array([1.59889463e+03, 9.67573629e+02, 1.00000000e+00])}]"
      ]
     },
     "execution_count": 9,
     "metadata": {},
     "output_type": "execute_result"
    }
   ],
   "source": [
    "speed_data['distanceMeasurement']"
   ]
  },
  {
   "cell_type": "code",
   "execution_count": 21,
   "metadata": {},
   "outputs": [],
   "source": [
    "import json\n",
    "\n",
    "with open(json_gtruth_path, 'r') as json_file:\n",
    "    position_data = json.load(json_file)\n",
    "\n",
    "cars_data = position_data['cars']"
   ]
  },
  {
   "cell_type": "code",
   "execution_count": 55,
   "metadata": {},
   "outputs": [],
   "source": [
    "cap = cv2.VideoCapture(video_path)\n",
    "\n",
    "\n",
    "frame_number = 0\n",
    "i = 0\n",
    "j = 0\n",
    "\n",
    "\n",
    "while cap.isOpened():\n",
    "    ret, frame = cap.read()\n",
    "    if not ret:\n",
    "        break\n",
    "\n",
    "    frame_list = cars_data[i]['frames']\n",
    "    car_id = cars_data[i]['id']\n",
    "    \n",
    "    if frame_list[j] == frame_number:\n",
    "        pos_x = int(cars_data[i]['posX'][j])\n",
    "        pos_y = int(cars_data[i]['posY'][j])\n",
    "        \n",
    "        img = cv2.circle(frame, (pos_x, pos_y), 20, (0,0,255), -1)\n",
    "        img = cv2.putText(img, f\"Car number {car_id}\", (pos_x, pos_y), cv2.FONT_HERSHEY_SIMPLEX, 2, (0,255,0))\n",
    "        j+=1\n",
    "        \n",
    "        if j == len(frame_list):\n",
    "            i += 1\n",
    "            j = 0\n",
    "    \n",
    "    else:\n",
    "        img = frame\n",
    "    \n",
    "\n",
    "    \n",
    "    cv2.imshow('frame', img)\n",
    "        \n",
    "    if cv2.waitKey(10) & 0xFF == ord('q'):\n",
    "        break\n",
    "    \n",
    "    frame_number += 1\n",
    "    \n",
    "\n",
    "    \n",
    "cap.release()\n",
    "cv2.destroyAllWindows()"
   ]
  },
  {
   "cell_type": "code",
   "execution_count": 50,
   "metadata": {},
   "outputs": [
    {
     "data": {
      "text/plain": [
       "0"
      ]
     },
     "execution_count": 50,
     "metadata": {},
     "output_type": "execute_result"
    }
   ],
   "source": [
    "cars_data[0]['id']"
   ]
  },
  {
   "cell_type": "code",
   "execution_count": null,
   "metadata": {},
   "outputs": [],
   "source": []
  }
 ],
 "metadata": {
  "kernelspec": {
   "display_name": "Python 3",
   "language": "python",
   "name": "python3"
  },
  "language_info": {
   "codemirror_mode": {
    "name": "ipython",
    "version": 3
   },
   "file_extension": ".py",
   "mimetype": "text/x-python",
   "name": "python",
   "nbconvert_exporter": "python",
   "pygments_lexer": "ipython3",
   "version": "3.11.2"
  },
  "orig_nbformat": 4
 },
 "nbformat": 4,
 "nbformat_minor": 2
}
