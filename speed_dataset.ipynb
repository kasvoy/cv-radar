{
 "cells": [
  {
   "cell_type": "code",
   "execution_count": 44,
   "metadata": {},
   "outputs": [],
   "source": [
    "import cv2\n",
    "\n",
    "video_path = \"data/session5_center/video.avi\"\n",
    "json_gtruth_path = 'data/session5_center_gtruth/system_dubska_optimal_calib.json'"
   ]
  },
  {
   "cell_type": "code",
   "execution_count": 45,
   "metadata": {},
   "outputs": [],
   "source": [
    "def play_video(video_path):\n",
    "    video = cv2.VideoCapture(video_path)\n",
    "    \n",
    "    while video.isOpened():\n",
    "        \n",
    "        pos_x = 500\n",
    "        pos_y = 600\n",
    "        ret, frame = video.read()\n",
    "        if ret:\n",
    "        \n",
    "            cv2.imshow('Video', frame)\n",
    "            if cv2.waitKey(10) & 0xFF == ord('q'):\n",
    "                break\n",
    "        else:\n",
    "            break\n",
    "        \n",
    "    video.release()\n",
    "    cv2.destroyAllWindows()"
   ]
  },
  {
   "cell_type": "code",
   "execution_count": 46,
   "metadata": {},
   "outputs": [],
   "source": [
    "#play_video(video_path)"
   ]
  },
  {
   "cell_type": "code",
   "execution_count": 47,
   "metadata": {},
   "outputs": [],
   "source": [
    "import pickle\n",
    "\n",
    "with open('data/session5_center/gt_data.pkl', 'rb') as pkl_file:\n",
    "    speed_data = pickle.load(pkl_file, encoding='latin1')"
   ]
  },
  {
   "cell_type": "code",
   "execution_count": 48,
   "metadata": {},
   "outputs": [],
   "source": [
    "import json\n",
    "\n",
    "with open(json_gtruth_path, 'r') as json_file:\n",
    "    position_data = json.load(json_file)\n",
    "\n",
    "cars_data = position_data['cars']"
   ]
  },
  {
   "cell_type": "code",
   "execution_count": 55,
   "metadata": {},
   "outputs": [],
   "source": [
    "cap = cv2.VideoCapture(video_path)\n",
    "\n",
    "\n",
    "frame_number = 0\n",
    "i = 0\n",
    "j = 0\n",
    "\n",
    "\n",
    "while cap.isOpened():\n",
    "    ret, frame = cap.read()\n",
    "    if not ret:\n",
    "        break\n",
    "\n",
    "    frame_list = cars_data[i]['frames']\n",
    "    car_id = cars_data[i]['id']\n",
    "    \n",
    "    if frame_list[j] == frame_number:\n",
    "        pos_x = int(cars_data[i]['posX'][j])\n",
    "        pos_y = int(cars_data[i]['posY'][j])\n",
    "        \n",
    "        img = cv2.circle(frame, (pos_x, pos_y), 20, (0,0,255), -1)\n",
    "        img = cv2.putText(img, f\"Car number {car_id}\", (pos_x, pos_y), cv2.FONT_HERSHEY_SIMPLEX, 2, (0,255,0))\n",
    "        j+=1\n",
    "        \n",
    "        if j == len(frame_list):\n",
    "            i += 1\n",
    "            j = 0\n",
    "    \n",
    "    else:\n",
    "        img = frame\n",
    "    \n",
    "\n",
    "    \n",
    "    cv2.imshow('frame', img)\n",
    "        \n",
    "    if cv2.waitKey(10) & 0xFF == ord('q'):\n",
    "        break\n",
    "    \n",
    "    frame_number += 1\n",
    "    \n",
    "\n",
    "    \n",
    "cap.release()\n",
    "cv2.destroyAllWindows()"
   ]
  },
  {
   "cell_type": "code",
   "execution_count": 50,
   "metadata": {},
   "outputs": [
    {
     "data": {
      "text/plain": [
       "0"
      ]
     },
     "execution_count": 50,
     "metadata": {},
     "output_type": "execute_result"
    }
   ],
   "source": [
    "cars_data[0]['id']"
   ]
  },
  {
   "cell_type": "code",
   "execution_count": null,
   "metadata": {},
   "outputs": [],
   "source": []
  }
 ],
 "metadata": {
  "kernelspec": {
   "display_name": "Python 3",
   "language": "python",
   "name": "python3"
  },
  "language_info": {
   "codemirror_mode": {
    "name": "ipython",
    "version": 3
   },
   "file_extension": ".py",
   "mimetype": "text/x-python",
   "name": "python",
   "nbconvert_exporter": "python",
   "pygments_lexer": "ipython3",
   "version": "3.11.2"
  },
  "orig_nbformat": 4
 },
 "nbformat": 4,
 "nbformat_minor": 2
}
