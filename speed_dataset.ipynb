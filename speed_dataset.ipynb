{
 "cells": [
  {
   "cell_type": "code",
   "execution_count": null,
   "metadata": {},
   "outputs": [],
   "source": [
    "import cv2\n",
    "\n",
    "video_path = \"data/session5_center/video.avi\"\n",
    "json_gtruth_path = 'data/session5_center_gtruth/system_dubska_bmvc14.json'"
   ]
  },
  {
   "cell_type": "code",
   "execution_count": null,
   "metadata": {},
   "outputs": [],
   "source": [
    "import pickle\n",
    "\n",
    "with open('data/session5_center/gt_data.pkl', 'rb') as pkl_file:\n",
    "    speed_data = pickle.load(pkl_file, encoding='latin')"
   ]
  },
  {
   "cell_type": "code",
   "execution_count": null,
   "metadata": {},
   "outputs": [],
   "source": [
    "import json\n",
    "\n",
    "with open(json_gtruth_path, 'r') as json_file:\n",
    "    position_data = json.load(json_file)\n",
    "\n",
    "cars_data = position_data['cars']"
   ]
  },
  {
   "cell_type": "code",
   "execution_count": null,
   "metadata": {},
   "outputs": [],
   "source": [
    "speed_data['cars']"
   ]
  },
  {
   "cell_type": "code",
   "execution_count": null,
   "metadata": {},
   "outputs": [],
   "source": [
    "speed_data['distanceMeasurement']"
   ]
  },
  {
   "cell_type": "code",
   "execution_count": null,
   "metadata": {},
   "outputs": [],
   "source": [
    "import math\n",
    "\n",
    "def play_speed_vid(video_path, gtruth, set_time_seconds = 34):\n",
    "    \n",
    "    speeds = gtruth['cars']\n",
    "    speed_iter = iter(speeds)\n",
    "    carspeed_dict = next(speed_iter)\n",
    "    \n",
    "    while not carspeed_dict['valid'] or carspeed_dict['intersections'][0]['videoTime'] < set_time_seconds:\n",
    "        carspeed_dict = next(speed_iter)\n",
    "            \n",
    "    cap = cv2.VideoCapture(video_path)\n",
    "        \n",
    "    cap.set(cv2.CAP_PROP_POS_MSEC,set_time_seconds*1000) \n",
    "  \n",
    "    while cap.isOpened():\n",
    "        \n",
    "        ret, frame = cap.read()\n",
    "        \n",
    "        if ret:\n",
    "            \n",
    "            current_time = cap.get(cv2.CAP_PROP_POS_MSEC) / 1000\n",
    "            current_time_trunc = float('{:.2f}'.format(current_time))\n",
    "            \n",
    "            text = f\"Video time: {current_time_trunc}\"\n",
    "            car_id_text = f\"Id: {carspeed_dict['carId']}\"\n",
    "            \n",
    "            cv2.putText(frame, text, (1500, 160), cv2.FONT_HERSHEY_SIMPLEX, 1, (255, 0, 0), 2, 2)\n",
    "            cv2.putText(frame, car_id_text, (1500, 300), cv2.FONT_HERSHEY_SIMPLEX, 1, (255, 0, 0), 2, 2)\n",
    "            \n",
    "            time_first_line = carspeed_dict['intersections'][0]['videoTime']\n",
    "            time_last_line = carspeed_dict['intersections'][1]['videoTime']\n",
    "            \n",
    "            if current_time >= time_first_line and current_time <= time_last_line:\n",
    "                speed_txt = str(float(\"{:.2f}\".format(carspeed_dict['speed']))) + \" km/h\"\n",
    "                speed_txt_org = tuple()\n",
    "                \n",
    "                if carspeed_dict['laneIndex'] == {1}:\n",
    "                    speed_txt_org = (1600, 840)\n",
    "                else:\n",
    "                    speed_txt_org = (450, 840)\n",
    "\n",
    "                cv2.putText(frame, speed_txt, speed_txt_org, cv2.FONT_HERSHEY_SIMPLEX, 1, (142, 173, 118), 2, 2)\n",
    "                \n",
    "                if math.isclose(current_time, time_last_line, rel_tol=0.001):\n",
    "                    carspeed_dict = next(speed_iter)\n",
    "                    if not carspeed_dict['valid']:\n",
    "                        carspeed_dict = next(speed_iter)    \n",
    "            \n",
    "            cv2.imshow('t', frame)\n",
    "            \n",
    "            key = cv2.waitKey(25)\n",
    "                        \n",
    "            if key & 0xFF == ord('q'):\n",
    "                break\n",
    "            if key & 0xFF == ord('p'):\n",
    "                cv2.waitKey(-1)\n",
    "            \n",
    "        else:\n",
    "            break\n",
    "    \n",
    "    \n",
    "    cap.release()\n",
    "    cv2.destroyAllWindows()\n",
    "    \n",
    "   "
   ]
  },
  {
   "cell_type": "code",
   "execution_count": null,
   "metadata": {},
   "outputs": [],
   "source": [
    "play_speed_vid(video_path, speed_data,84)"
   ]
  },
  {
   "cell_type": "code",
   "execution_count": null,
   "metadata": {},
   "outputs": [],
   "source": [
    "def get_frame_from_video_time(video_path, time):\n",
    "    \n",
    "        \n",
    "    cap = cv2.VideoCapture(video_path)\n",
    "        \n",
    "    cap.set(cv2.CAP_PROP_POS_MSEC,time*1000) \n",
    "    \n",
    "    _, frame = cap.read()\n",
    "    \n",
    "    cv2.imshow('s', frame)\n",
    "    \n",
    "    \n",
    "    cv2.waitKey(0)\n",
    "    cv2.destroyAllWindows()\n",
    "    cap.release()"
   ]
  },
  {
   "cell_type": "code",
   "execution_count": null,
   "metadata": {},
   "outputs": [],
   "source": [
    "#get_frame_from_video_time(video_path, 40.080034)"
   ]
  }
 ],
 "metadata": {
  "kernelspec": {
   "display_name": "Python 3",
   "language": "python",
   "name": "python3"
  },
  "language_info": {
   "codemirror_mode": {
    "name": "ipython",
    "version": 3
   },
   "file_extension": ".py",
   "mimetype": "text/x-python",
   "name": "python",
   "nbconvert_exporter": "python",
   "pygments_lexer": "ipython3",
   "version": "3.11.0"
  },
  "orig_nbformat": 4
 },
 "nbformat": 4,
 "nbformat_minor": 2
}
